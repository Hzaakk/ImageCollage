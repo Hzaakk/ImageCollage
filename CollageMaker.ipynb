{
 "cells": [
  {
   "cell_type": "code",
   "execution_count": null,
   "metadata": {},
   "outputs": [],
   "source": [
    "import os\n",
    "import numpy as np, cv2\n",
    "import random\n",
    "import shutil\n",
    "# Add slash after each location\n",
    "IM_LOC = '...' # Location of all images\n",
    "SMALL_LOC = '...' # Location to store super low res images that are compared instead of large images to increase speed\n",
    "RESOLUTION = 20 # How many images in the X-axis\n",
    "SMALL_SIZE = (8, 8) # size of super low res images"
   ]
  },
  {
   "cell_type": "markdown",
   "metadata": {},
   "source": [
    "Run the last cell if it's your first time using a set of images"
   ]
  },
  {
   "cell_type": "code",
   "execution_count": null,
   "metadata": {},
   "outputs": [],
   "source": [
    "IMAGE_NAME = 'test.jpg'\n",
    "SCALE = 0.5 # Resolution of collage / resolution of original image\n",
    "original = cv2.resize(cv2.imread(IMAGE_NAME), None, None, SCALE, SCALE, interpolation = cv2.INTER_LANCZOS4)\n",
    "# Sizes of small images in each axis\n",
    "x_sq = original.shape[1] // RESOLUTION\n",
    "y_sq = round(original.shape[0] / RESOLUTION * original.shape[1] / original.shape[0])\n",
    "\n",
    "canvas = np.zeros((original.shape[0] // y_sq * y_sq, x_sq * RESOLUTION, 3))"
   ]
  },
  {
   "cell_type": "code",
   "execution_count": null,
   "metadata": {},
   "outputs": [],
   "source": [
    "# Storing super low res images in 'data'\n",
    "im_list = os.listdir(IM_LOC)\n",
    "if 'desktop.ini' in im_list:\n",
    "    im_list.remove('desktop.ini')\n",
    "\n",
    "names = dict(zip(im_list.copy(), [0 for _ in range(len(im_list))])) # Stores how many times an image is used\n",
    "\n",
    "data = np.zeros((len(im_list), *SMALL_SIZE, 3))\n",
    "for i, file in enumerate(im_list):\n",
    "    data[i] = cv2.imread(SMALL_LOC + file)\n",
    "    "
   ]
  },
  {
   "cell_type": "code",
   "execution_count": null,
   "metadata": {},
   "outputs": [],
   "source": [
    "show = True # Show the process of making the image. Slightly slower if True\n",
    "MAX_USAGE = 10 # Max number of times an image can be used, lower number results in lower color accuracy and duller image. Higher results in big blocks of the same image which can be ugly\n",
    "\n",
    "if show:\n",
    "    cv2.imshow('orig', cv2.resize(original, None, None, 0.25, 0.25))\n",
    "\n",
    "brk = False # When true, program stops\n",
    "\n",
    "for x in range(0, original.shape[1] - x_sq, x_sq):\n",
    "    for y in range(0, original.shape[0] - y_sq, y_sq):\n",
    "        # Finding closest match\n",
    "        square = cv2.resize(original[y:y+y_sq, x:x+x_sq], SMALL_SIZE, interpolation = cv2.INTER_LANCZOS4) # Slightly faster if using interpolation that isnt LANCZOS4\n",
    "        index = np.argmin(np.square(data - square).sum((1,2,3))) # Can use np.absolute instead of np.square\n",
    "        canvas[y:y+y_sq, x:x+x_sq] = cv2.resize(cv2.imread(IM_LOC + im_list[index]), (x_sq, y_sq))\n",
    "        \n",
    "        names[im_list[index]] += 1\n",
    "        if names[im_list[index]] >= MAX_USAGE:\n",
    "            im_list.pop(index)\n",
    "            data = np.reshape(np.delete(data, index, 0), (-1, *data.shape[1:]))\n",
    "            \n",
    "        if show:\n",
    "            cv2.imshow('can', cv2.resize(canvas.astype(np.uint8), None, None, 0.25, 0.25))\n",
    "            if cv2.waitKey(1)&0xff == ord('q'): # Break when pressing Q\n",
    "                brk = True\n",
    "                break\n",
    "        if brk:\n",
    "            break\n",
    "    if brk:\n",
    "        break\n",
    "if show:\n",
    "    cv2.destroyAllWindows()"
   ]
  },
  {
   "cell_type": "code",
   "execution_count": null,
   "metadata": {},
   "outputs": [],
   "source": [
    "# Shows produced image and saves it\n",
    "cv2.imshow('image', cv2.resize(canvas.astype(np.uint8), None, None, 0.25, 0.25, interpolation = cv2.INTER_LANCZOS4))\n",
    "cv2.imwrite('result.png', canvas)\n",
    "cv2.waitKey(0)\n",
    "cv2.destroyAllWindows()"
   ]
  },
  {
   "cell_type": "code",
   "execution_count": null,
   "metadata": {},
   "outputs": [
    {
     "name": "stdout",
     "output_type": "stream",
     "text": [
      "[WinError 3] The system cannot find the path specified: 'small_flowers/'\n"
     ]
    }
   ],
   "source": [
    "# Only run the first time using a set of images\n",
    "# Stores super low res of the set of images\n",
    "try:\n",
    "    shutil.rmtree(SMALL_LOC)\n",
    "except FileNotFoundError as e:\n",
    "    print(e)\n",
    "    \n",
    "os.mkdir(SMALL_LOC)\n",
    "for file in os.listdir(IM_LOC):\n",
    "    try:\n",
    "        im = cv2.resize(cv2.imread(IM_LOC + file), SMALL_SIZE, interpolation = cv2.INTER_LANCZOS4)\n",
    "        cv2.imwrite(SMALL_LOC + file, im)\n",
    "    except Exception as e:\n",
    "        print(e)"
   ]
  },
  {
   "cell_type": "code",
   "execution_count": null,
   "metadata": {},
   "outputs": [],
   "source": []
  }
 ],
 "metadata": {
  "kernelspec": {
   "display_name": "Python 3",
   "language": "python",
   "name": "python3"
  },
  "language_info": {
   "codemirror_mode": {
    "name": "ipython",
    "version": 3
   },
   "file_extension": ".py",
   "mimetype": "text/x-python",
   "name": "python",
   "nbconvert_exporter": "python",
   "pygments_lexer": "ipython3",
   "version": "3.7.0"
  }
 },
 "nbformat": 4,
 "nbformat_minor": 4
}
